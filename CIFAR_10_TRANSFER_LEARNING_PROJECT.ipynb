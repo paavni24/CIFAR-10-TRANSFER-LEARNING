{
  "nbformat": 4,
  "nbformat_minor": 0,
  "metadata": {
    "colab": {
      "provenance": [],
      "gpuType": "T4"
    },
    "kernelspec": {
      "name": "python3",
      "display_name": "Python 3"
    },
    "language_info": {
      "name": "python"
    },
    "accelerator": "GPU"
  },
  "cells": [
    {
      "cell_type": "code",
      "execution_count": 1,
      "metadata": {
        "id": "POAC1BmqSyKS"
      },
      "outputs": [],
      "source": [
        "import pandas as pd\n",
        "import numpy as np\n",
        "import matplotlib.pyplot as plt\n",
        "import tensorflow as tf\n",
        "from tensorflow import keras\n",
        "from tensorflow.keras import datasets,optimizers\n",
        "from keras.models import Sequential\n",
        "from keras.layers import Dense,Flatten,Dropout\n",
        "from tensorflow.keras.applications import VGG16\n",
        "from keras.applications.vgg16 import preprocess_input\n",
        "from keras.preprocessing.image import ImageDataGenerator\n",
        "from keras.callbacks import EarlyStopping"
      ]
    },
    {
      "cell_type": "code",
      "source": [
        "#loading the CIFAR-10 dataset\n",
        "(train_images, train_labels), (test_images, test_labels) = datasets.cifar10.load_data()"
      ],
      "metadata": {
        "id": "5D47BOYmTGda",
        "colab": {
          "base_uri": "https://localhost:8080/"
        },
        "outputId": "2ae590a9-df61-463f-d9c3-55809acb1d8e"
      },
      "execution_count": 2,
      "outputs": [
        {
          "output_type": "stream",
          "name": "stdout",
          "text": [
            "Downloading data from https://www.cs.toronto.edu/~kriz/cifar-10-python.tar.gz\n",
            "170498071/170498071 [==============================] - 6s 0us/step\n"
          ]
        }
      ]
    },
    {
      "cell_type": "code",
      "source": [
        "# Normalize pixel values to be between 0 and 1\n",
        "train_images, test_images = train_images / 255.0, test_images / 255.0\n",
        "\n",
        "# Convert labels to one-hot encoding\n",
        "train_labels = tf.keras.utils.to_categorical(train_labels, 10)\n",
        "test_labels = tf.keras.utils.to_categorical(test_labels, 10)"
      ],
      "metadata": {
        "id": "FIKte-jeTGhC"
      },
      "execution_count": 3,
      "outputs": []
    },
    {
      "cell_type": "code",
      "source": [
        "conv_base = VGG16(weights='imagenet', include_top=False, input_shape=(32,32,3))"
      ],
      "metadata": {
        "id": "wEq9VD19TGnS",
        "colab": {
          "base_uri": "https://localhost:8080/"
        },
        "outputId": "30cdd463-9091-46c4-86da-f3ce19644274"
      },
      "execution_count": 4,
      "outputs": [
        {
          "output_type": "stream",
          "name": "stdout",
          "text": [
            "Downloading data from https://storage.googleapis.com/tensorflow/keras-applications/vgg16/vgg16_weights_tf_dim_ordering_tf_kernels_notop.h5\n",
            "58889256/58889256 [==============================] - 0s 0us/step\n"
          ]
        }
      ]
    },
    {
      "cell_type": "code",
      "source": [
        "conv_base.trainable = True\n",
        "\n",
        "set_trainable = False\n",
        "\n",
        "for layer in conv_base.layers:\n",
        "  if layer.name == 'block5_conv1':\n",
        "    set_trainable = True\n",
        "  if set_trainable:\n",
        "    layer.trainable = True\n",
        "  else:\n",
        "    layer.trainable = False\n",
        "\n",
        "for layer in conv_base.layers:\n",
        "  print(layer.name,layer.trainable)"
      ],
      "metadata": {
        "colab": {
          "base_uri": "https://localhost:8080/"
        },
        "id": "ZJG2QOtevVil",
        "outputId": "99a3e0d1-7621-466b-eac5-e38c7d2c6715"
      },
      "execution_count": 5,
      "outputs": [
        {
          "output_type": "stream",
          "name": "stdout",
          "text": [
            "input_1 False\n",
            "block1_conv1 False\n",
            "block1_conv2 False\n",
            "block1_pool False\n",
            "block2_conv1 False\n",
            "block2_conv2 False\n",
            "block2_pool False\n",
            "block3_conv1 False\n",
            "block3_conv2 False\n",
            "block3_conv3 False\n",
            "block3_pool False\n",
            "block4_conv1 False\n",
            "block4_conv2 False\n",
            "block4_conv3 False\n",
            "block4_pool False\n",
            "block5_conv1 True\n",
            "block5_conv2 True\n",
            "block5_conv3 True\n",
            "block5_pool True\n"
          ]
        }
      ]
    },
    {
      "cell_type": "code",
      "source": [
        "model = Sequential()\n",
        "\n",
        "model.add(conv_base)  # Assuming base_model is your VGG16 without top layers\n",
        "model.add(Flatten())\n",
        "model.add(Dense(256, activation='relu'))\n",
        "model.add(Dropout(0.5))\n",
        "model.add(Dense(10, activation='softmax'))  # Assuming 10 classes for CIFAR-10\n"
      ],
      "metadata": {
        "id": "qND7r4YyVZDF"
      },
      "execution_count": 6,
      "outputs": []
    },
    {
      "cell_type": "code",
      "source": [
        "model.compile(\n",
        "    optimizer=optimizers.Adam(learning_rate=1e-5),\n",
        "    loss='categorical_crossentropy',\n",
        "    metrics=['accuracy']\n",
        "  )"
      ],
      "metadata": {
        "id": "QerBlkK8VZK5"
      },
      "execution_count": 7,
      "outputs": []
    },
    {
      "cell_type": "code",
      "source": [
        "early_stopping = EarlyStopping(monitor='val_loss', patience=5)"
      ],
      "metadata": {
        "id": "yLcNsFU-yEbi"
      },
      "execution_count": 8,
      "outputs": []
    },
    {
      "cell_type": "code",
      "source": [
        "history = model.fit(train_images,train_labels,epochs=50,validation_data=(test_images,test_labels),callbacks=[early_stopping])"
      ],
      "metadata": {
        "colab": {
          "base_uri": "https://localhost:8080/"
        },
        "id": "E4uowG2vrZDe",
        "outputId": "f2f14f7d-45b1-4cd0-ee90-834f705625e2"
      },
      "execution_count": 10,
      "outputs": [
        {
          "output_type": "stream",
          "name": "stdout",
          "text": [
            "Epoch 1/50\n",
            "1563/1563 [==============================] - 27s 18ms/step - loss: 1.2873 - accuracy: 0.5564 - val_loss: 0.9993 - val_accuracy: 0.6500\n",
            "Epoch 2/50\n",
            "1563/1563 [==============================] - 27s 17ms/step - loss: 1.0152 - accuracy: 0.6518 - val_loss: 0.8889 - val_accuracy: 0.6929\n",
            "Epoch 3/50\n",
            "1563/1563 [==============================] - 27s 17ms/step - loss: 0.9014 - accuracy: 0.6904 - val_loss: 0.8374 - val_accuracy: 0.7081\n",
            "Epoch 4/50\n",
            "1563/1563 [==============================] - 27s 17ms/step - loss: 0.8268 - accuracy: 0.7159 - val_loss: 0.8137 - val_accuracy: 0.7168\n",
            "Epoch 5/50\n",
            "1563/1563 [==============================] - 27s 17ms/step - loss: 0.7711 - accuracy: 0.7342 - val_loss: 0.7922 - val_accuracy: 0.7259\n",
            "Epoch 6/50\n",
            "1563/1563 [==============================] - 26s 17ms/step - loss: 0.7230 - accuracy: 0.7535 - val_loss: 0.7544 - val_accuracy: 0.7366\n",
            "Epoch 7/50\n",
            "1563/1563 [==============================] - 27s 17ms/step - loss: 0.6756 - accuracy: 0.7670 - val_loss: 0.7620 - val_accuracy: 0.7333\n",
            "Epoch 8/50\n",
            "1563/1563 [==============================] - 27s 17ms/step - loss: 0.6312 - accuracy: 0.7854 - val_loss: 0.7365 - val_accuracy: 0.7432\n",
            "Epoch 9/50\n",
            "1563/1563 [==============================] - 27s 17ms/step - loss: 0.5924 - accuracy: 0.7966 - val_loss: 0.7282 - val_accuracy: 0.7462\n",
            "Epoch 10/50\n",
            "1563/1563 [==============================] - 27s 17ms/step - loss: 0.5547 - accuracy: 0.8138 - val_loss: 0.7299 - val_accuracy: 0.7517\n",
            "Epoch 11/50\n",
            "1563/1563 [==============================] - 27s 17ms/step - loss: 0.5187 - accuracy: 0.8220 - val_loss: 0.7245 - val_accuracy: 0.7496\n",
            "Epoch 12/50\n",
            "1563/1563 [==============================] - 26s 17ms/step - loss: 0.4813 - accuracy: 0.8357 - val_loss: 0.7229 - val_accuracy: 0.7534\n",
            "Epoch 13/50\n",
            "1563/1563 [==============================] - 27s 17ms/step - loss: 0.4468 - accuracy: 0.8480 - val_loss: 0.7510 - val_accuracy: 0.7452\n",
            "Epoch 14/50\n",
            "1563/1563 [==============================] - 27s 18ms/step - loss: 0.4112 - accuracy: 0.8614 - val_loss: 0.7221 - val_accuracy: 0.7551\n",
            "Epoch 15/50\n",
            "1563/1563 [==============================] - 27s 17ms/step - loss: 0.3772 - accuracy: 0.8718 - val_loss: 0.7305 - val_accuracy: 0.7562\n",
            "Epoch 16/50\n",
            "1563/1563 [==============================] - 27s 17ms/step - loss: 0.3452 - accuracy: 0.8852 - val_loss: 0.7528 - val_accuracy: 0.7526\n",
            "Epoch 17/50\n",
            "1563/1563 [==============================] - 26s 17ms/step - loss: 0.3101 - accuracy: 0.8969 - val_loss: 0.7862 - val_accuracy: 0.7530\n",
            "Epoch 18/50\n",
            "1563/1563 [==============================] - 27s 17ms/step - loss: 0.2776 - accuracy: 0.9097 - val_loss: 0.8021 - val_accuracy: 0.7490\n",
            "Epoch 19/50\n",
            "1563/1563 [==============================] - 27s 17ms/step - loss: 0.2513 - accuracy: 0.9178 - val_loss: 0.8186 - val_accuracy: 0.7498\n"
          ]
        }
      ]
    },
    {
      "cell_type": "code",
      "source": [
        "# Evaluate the model on the test set\n",
        "loss, accuracy = model.evaluate(test_images, test_labels)\n",
        "print(f'Test Loss: {loss}')\n",
        "print(f'Test Accuracy: {accuracy}')"
      ],
      "metadata": {
        "colab": {
          "base_uri": "https://localhost:8080/"
        },
        "id": "Ar_4gcLXubc9",
        "outputId": "9812444a-ef5f-4f9a-b9f6-ac0aecd4140e"
      },
      "execution_count": 13,
      "outputs": [
        {
          "output_type": "stream",
          "name": "stdout",
          "text": [
            "313/313 [==============================] - 3s 8ms/step - loss: 0.8186 - accuracy: 0.7498\n",
            "Test Loss: 0.8185965418815613\n",
            "Test Accuracy: 0.7498000264167786\n"
          ]
        }
      ]
    },
    {
      "cell_type": "code",
      "source": [
        "import matplotlib.pyplot as plt\n",
        "\n",
        "plt.plot(history.history['accuracy'],color='red',label='train')\n",
        "plt.plot(history.history['val_accuracy'],color='blue',label='validation')\n",
        "plt.legend()\n",
        "plt.show()"
      ],
      "metadata": {
        "colab": {
          "base_uri": "https://localhost:8080/",
          "height": 430
        },
        "id": "EGKZ_2GDr8M9",
        "outputId": "2904b469-3cf4-4945-e32b-f6b27a00b586"
      },
      "execution_count": 11,
      "outputs": [
        {
          "output_type": "display_data",
          "data": {
            "text/plain": [
              "<Figure size 640x480 with 1 Axes>"
            ],
            "image/png": "[encoded data removed]"
          },
          "metadata": {}
        }
      ]
    },
    {
      "cell_type": "code",
      "source": [
        "plt.plot(history.history['loss'],color='red',label='train')\n",
        "plt.plot(history.history['val_loss'],color='blue',label='validation')\n",
        "plt.legend()\n",
        "plt.show()"
      ],
      "metadata": {
        "colab": {
          "base_uri": "https://localhost:8080/",
          "height": 430
        },
        "id": "NUgl7teIuTn7",
        "outputId": "ae1e9bd3-2a35-476d-8b02-3f22664e6cdd"
      },
      "execution_count": 12,
      "outputs": [
        {
          "output_type": "display_data",
          "data": {
            "text/plain": [
              "<Figure size 640x480 with 1 Axes>"
            ],
            "image/png": "[encoded data removed]"
          },
          "metadata": {}
        }
      ]
    }
  ]
}